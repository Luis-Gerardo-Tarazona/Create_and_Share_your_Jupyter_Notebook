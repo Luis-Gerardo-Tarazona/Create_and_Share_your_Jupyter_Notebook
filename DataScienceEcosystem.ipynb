{
  "metadata": {
    "kernelspec": {
      "name": "python",
      "display_name": "Python (Pyodide)",
      "language": "python"
    },
    "language_info": {
      "codemirror_mode": {
        "name": "python",
        "version": 3
      },
      "file_extension": ".py",
      "mimetype": "text/x-python",
      "name": "python",
      "nbconvert_exporter": "python",
      "pygments_lexer": "ipython3",
      "version": "3.8"
    }
  },
  "nbformat_minor": 5,
  "nbformat": 4,
  "cells": [
    {
      "id": "23ed22d9-fe66-4e81-a686-67ed151b3374",
      "cell_type": "markdown",
      "source": "## Data Science Tools and Ecosystem",
      "metadata": {}
    },
    {
      "id": "9f6faae7-e65a-46a7-bd32-b6986f2953a4",
      "cell_type": "markdown",
      "source": "In this notebook, Data Science Tools and Ecosystem are summarized.",
      "metadata": {}
    },
    {
      "id": "f009a6e2-f79e-42c2-86e2-166bdb7ccb49",
      "cell_type": "markdown",
      "source": "Objectives:\n- List popular languages for Data Science.\n- List commonly used libraries for Data Science.\n- Present some open source Data Science Tools.\n- Show some examples of arithmetic expressions in Python.",
      "metadata": {}
    },
    {
      "id": "b22b0777-b118-4f90-a81e-a901c337c494",
      "cell_type": "markdown",
      "source": "Some of the popular languages that Data Scientists use are:\n1. Python\n2. R\n3. SQL\n4. Java",
      "metadata": {}
    },
    {
      "id": "cfe303bf-d43b-4316-a98a-c613f148d6b3",
      "cell_type": "markdown",
      "source": "Some of the commonly used libraries used by Data Scientist include:\n1. Pandas (Python)\n2. Numpy (Python)\n3. Matplotlib (Python)\n4. Seaborn (Python)\n5. Scikit (Python)\n6. TensorFlow (Python)\n7. dplyr (R)\n8. stringr (R)\n9. ggplot (R)\n10. Caret (R)",
      "metadata": {}
    },
    {
      "id": "a261ee78-677f-44b6-9956-bff4ef473129",
      "cell_type": "markdown",
      "source": "| Data Science Tools |\n| ---- |\n| VS Code |\n| Jupyter |\n| RStudio |",
      "metadata": {}
    },
    {
      "id": "a332e48c-cecd-449c-9e7b-587d8c3a415e",
      "cell_type": "markdown",
      "source": "### Below are few examples of evaluating arithmetic expressions in Python",
      "metadata": {}
    },
    {
      "id": "0e326219-1fdd-45af-a172-f9390a0eaa36",
      "cell_type": "code",
      "source": "# This a simple arithmetic expression to mutiply then add integers\n(3*4)+5",
      "metadata": {
        "trusted": true
      },
      "outputs": [
        {
          "execution_count": 4,
          "output_type": "execute_result",
          "data": {
            "text/plain": "17"
          },
          "metadata": {}
        }
      ],
      "execution_count": 4
    },
    {
      "id": "9b259f44-410e-4ada-8b0f-d174a8cb63bd",
      "cell_type": "code",
      "source": "# This will convert 200 minutes to hours by diving by 60\n\nminutes = 200  # Enter minutes to convert\nminutes_In_Hour = 60   # Minutes in an hour\nmin_to_Hour = minutes / minutes_In_Hour #Divides\nprint(min_to_Hour)",
      "metadata": {
        "trusted": true
      },
      "outputs": [
        {
          "name": "stdout",
          "output_type": "stream",
          "text": "3.3333333333333335\n"
        }
      ],
      "execution_count": 10
    },
    {
      "id": "882931c7-cab0-42b2-a237-af60a7556e99",
      "cell_type": "markdown",
      "source": "## Author\nLuis Gerardo Tarazona Mora",
      "metadata": {}
    },
    {
      "id": "a985a4d6-79f7-4c08-a76b-529ca12e3009",
      "cell_type": "code",
      "source": "",
      "metadata": {
        "trusted": true
      },
      "outputs": [],
      "execution_count": null
    }
  ]
}